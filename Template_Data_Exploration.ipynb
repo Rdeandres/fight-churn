{
  "nbformat": 4,
  "nbformat_minor": 0,
  "metadata": {
    "kernelspec": {
      "display_name": "Python 3",
      "language": "python",
      "name": "python3"
    },
    "language_info": {
      "codemirror_mode": {
        "name": "ipython",
        "version": 3
      },
      "file_extension": ".py",
      "mimetype": "text/x-python",
      "name": "python",
      "nbconvert_exporter": "python",
      "pygments_lexer": "ipython3",
      "version": "3.7.6"
    },
    "nav_menu": {
      "height": "279px",
      "width": "309px"
    },
    "toc": {
      "nav_menu": {},
      "number_sections": true,
      "sideBar": true,
      "skip_h1_title": false,
      "toc_cell": false,
      "toc_position": {},
      "toc_section_display": "block",
      "toc_window_display": false
    },
    "colab": {
      "name": "Template_Data_Exploration.ipynb",
      "provenance": [],
      "collapsed_sections": [],
      "toc_visible": true,
      "include_colab_link": true
    }
  },
  "cells": [
    {
      "cell_type": "markdown",
      "metadata": {
        "id": "view-in-github",
        "colab_type": "text"
      },
      "source": [
        "<a href=\"https://colab.research.google.com/github/Rdeandres/fight-churn/blob/master/Template_Data_Exploration.ipynb\" target=\"_parent\"><img src=\"https://colab.research.google.com/assets/colab-badge.svg\" alt=\"Open In Colab\"/></a>"
      ]
    },
    {
      "cell_type": "markdown",
      "metadata": {
        "id": "jBXtGnDmzJB5",
        "colab_type": "text"
      },
      "source": [
        "**Churn Analysis**\n",
        "\n",
        "*The goal is to perform a simple churn model in python. There is a first series of notebooks and then finetuning for automatization of model in production*\n",
        "\n",
        "*The Data and description of the data can be found here:\n",
        "   https://www.kaggle.com/blastchar/telco-customer-churn*"
      ]
    },
    {
      "cell_type": "markdown",
      "metadata": {
        "id": "OO1jFkslzJB7",
        "colab_type": "text"
      },
      "source": [
        "# Setup"
      ]
    },
    {
      "cell_type": "markdown",
      "metadata": {
        "id": "SEuhKvL8zJB7",
        "colab_type": "text"
      },
      "source": [
        "Importing common moduls and making sure that we have the right Environment."
      ]
    },
    {
      "cell_type": "code",
      "metadata": {
        "id": "LVuAWEK3zJB8",
        "colab_type": "code",
        "colab": {}
      },
      "source": [
        "# Python ≥3.5 is required\n",
        "import sys\n",
        "assert sys.version_info >= (3, 5)\n",
        "\n",
        "# Scikit-Learn ≥0.20 is required\n",
        "import sklearn\n",
        "assert sklearn.__version__ >= \"0.20\"\n",
        "\n",
        "# Common imports\n",
        "import numpy as np\n",
        "import pandas as pd\n",
        "import os\n",
        "\n",
        "# To plot pretty figures\n",
        "%matplotlib inline\n",
        "import matplotlib as mpl\n",
        "import matplotlib.pyplot as plt\n",
        "mpl.rc('axes', labelsize=14)\n",
        "mpl.rc('xtick', labelsize=12)\n",
        "mpl.rc('ytick', labelsize=12)\n",
        "\n",
        "import seaborn as sns\n",
        "sns.set()\n",
        "\n",
        "# For modelling\n",
        "!pip install -q dython\n",
        "from dython import nominal\n",
        "\n",
        "from sklearn.impute import SimpleImputer\n",
        "from sklearn.pipeline import Pipeline\n",
        "from sklearn.preprocessing import StandardScaler\n",
        "\n",
        "# Where to save the figures\n",
        "#PROJECT_ROOT_DIR = \".\"\n",
        "#CHAPTER_ID = \"end_to_end_project\"\n",
        "#IMAGES_PATH = os.path.join(PROJECT_ROOT_DIR, \"images\", CHAPTER_ID)\n",
        "#os.makedirs(IMAGES_PATH, exist_ok=True)\n",
        "\n",
        "#def save_fig(fig_id, tight_layout=True, fig_extension=\"png\", resolution=300):\n",
        "    #path = os.path.join(IMAGES_PATH, fig_id + \".\" + fig_extension)\n",
        "    #print(\"Saving figure\", fig_id)\n",
        "    #if tight_layout:\n",
        "        #plt.tight_layout()\n",
        "    #plt.savefig(path, format=fig_extension, dpi=resolution)\n",
        "\n",
        "# Ignore useless warnings (see SciPy issue #5998)\n",
        "import warnings\n",
        "warnings.filterwarnings(action=\"ignore\", message=\"^internal gelsd\")"
      ],
      "execution_count": 0,
      "outputs": []
    },
    {
      "cell_type": "markdown",
      "metadata": {
        "id": "vtnnCPiTzJCA",
        "colab_type": "text"
      },
      "source": [
        "# Get the data"
      ]
    },
    {
      "cell_type": "code",
      "metadata": {
        "id": "cB1T3_GZzJCG",
        "colab_type": "code",
        "colab": {}
      },
      "source": [
        "import pandas as pd \n",
        "df = pd.read_csv('/content/telco-customer-churn.csv')"
      ],
      "execution_count": 0,
      "outputs": []
    },
    {
      "cell_type": "markdown",
      "metadata": {
        "id": "E7cgnfip261x",
        "colab_type": "text"
      },
      "source": [
        "# Explore Data (DataViz + Insights)"
      ]
    },
    {
      "cell_type": "markdown",
      "metadata": {
        "id": "ZfbCikIX4FXx",
        "colab_type": "text"
      },
      "source": [
        "\n",
        "\n",
        "> Outliers\n",
        "\n"
      ]
    },
    {
      "cell_type": "markdown",
      "metadata": {
        "id": "6cUvm1Yb4Noy",
        "colab_type": "text"
      },
      "source": [
        "\n",
        "\n",
        "> Missing Values\n",
        "\n",
        "\n",
        "\n",
        "\n",
        "\n"
      ]
    },
    {
      "cell_type": "markdown",
      "metadata": {
        "id": "zX2KQVHb5IRB",
        "colab_type": "text"
      },
      "source": [
        "Summary Data: Aggregations and Visualizations"
      ]
    },
    {
      "cell_type": "markdown",
      "metadata": {
        "id": "yywMknDJ5Pzb",
        "colab_type": "text"
      },
      "source": [
        "Correlation and Crammer's V Analysis"
      ]
    },
    {
      "cell_type": "markdown",
      "metadata": {
        "id": "DanWMMF53Hc_",
        "colab_type": "text"
      },
      "source": [
        "# Prepare Data for Machine Learning Algorithms"
      ]
    },
    {
      "cell_type": "markdown",
      "metadata": {
        "id": "08HxS0sl5biJ",
        "colab_type": "text"
      },
      "source": [
        "\n",
        "\n",
        "> Dealing with Numeric Features\n",
        "\n"
      ]
    },
    {
      "cell_type": "markdown",
      "metadata": {
        "id": "KSSQxCWN5jj4",
        "colab_type": "text"
      },
      "source": [
        "Dealing With Categorial features\n",
        "\n",
        "> Bloc en retrait\n",
        "\n"
      ]
    },
    {
      "cell_type": "markdown",
      "metadata": {
        "id": "Omer_2Lr5p9T",
        "colab_type": "text"
      },
      "source": [
        "\n",
        "\n",
        "> Joining Tables\n",
        "\n"
      ]
    },
    {
      "cell_type": "markdown",
      "metadata": {
        "id": "o8gii65K5tjO",
        "colab_type": "text"
      },
      "source": [
        "\n",
        "\n",
        "> Test and Learning DataSet\n",
        "\n"
      ]
    },
    {
      "cell_type": "markdown",
      "metadata": {
        "id": "mGT5HfSE3PL0",
        "colab_type": "text"
      },
      "source": [
        "# Select and train baseline model "
      ]
    },
    {
      "cell_type": "markdown",
      "metadata": {
        "id": "hBRnhqIp3VT8",
        "colab_type": "text"
      },
      "source": [
        "# Fine tune Model"
      ]
    },
    {
      "cell_type": "markdown",
      "metadata": {
        "id": "2iRRFCln33EW",
        "colab_type": "text"
      },
      "source": [
        "# Additional Model"
      ]
    }
  ]
}